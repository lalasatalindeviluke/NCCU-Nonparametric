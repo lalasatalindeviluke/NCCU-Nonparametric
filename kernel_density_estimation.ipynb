{
 "cells": [
  {
   "cell_type": "code",
   "execution_count": 1,
   "metadata": {},
   "outputs": [],
   "source": [
    "import numpy as np\n",
    "from scipy.stats import norm, expon\n",
    "from scipy.integrate import quad, quad_vec\n",
    "from scipy.optimize import minimize\n",
    "import matplotlib.pyplot as plt"
   ]
  },
  {
   "cell_type": "code",
   "execution_count": 2,
   "metadata": {},
   "outputs": [
    {
     "name": "stderr",
     "output_type": "stream",
     "text": [
      "C:\\Users\\tiger\\AppData\\Local\\Programs\\Python\\Python37\\lib\\site-packages\\rpy2\\robjects\\packages.py:367: UserWarning: The symbol 'quartz' is not in this R namespace/package.\n",
      "  \"The symbol '%s' is not in this R namespace/package.\" % name\n"
     ]
    }
   ],
   "source": [
    "%load_ext rpy2.ipython"
   ]
  },
  {
   "cell_type": "markdown",
   "metadata": {},
   "source": [
    "# Exercise 1"
   ]
  },
  {
   "cell_type": "markdown",
   "metadata": {},
   "source": [
    "## (a)"
   ]
  },
  {
   "cell_type": "code",
   "execution_count": 3,
   "metadata": {},
   "outputs": [],
   "source": [
    "def fhat(X, x0, h):\n",
    "    return (h*X.shape[0])**(-1) * norm.pdf((x0-X)/h).sum()\n",
    "\n",
    "def g0(s, t):\n",
    "    return norm.cdf(t) - norm.cdf(s)\n",
    "\n",
    "def g1(s, t):\n",
    "    return -norm.pdf(t) + norm.pdf(s)\n",
    "\n",
    "def g2(s, t):\n",
    "    return -t*norm.pdf(t) + s*norm.pdf(s) + norm.cdf(t) - norm.cdf(s)\n",
    "\n",
    "def fL_hat(X, x0, h, a, b):\n",
    "    lower, upper = (x0-b)/h, (x0-a)/h\n",
    "    mu = (x0-X)/h\n",
    "    return (h*X.shape[0])**(-1) * ((g2(lower, upper)*norm.pdf(mu) - (g1(lower, upper)*mu*norm.pdf(mu))) / \\\n",
    "                                    (g0(lower, upper)*g2(lower, upper) - (g1(lower, upper))**2)).sum()"
   ]
  },
  {
   "cell_type": "markdown",
   "metadata": {},
   "source": [
    "## 畫圖"
   ]
  },
  {
   "cell_type": "code",
   "execution_count": 4,
   "metadata": {},
   "outputs": [],
   "source": [
    "%R set.seed(1)\n",
    "%R xa_r <- runif(5000)\n",
    "\n",
    "# np.random.seed(1)\n",
    "# xa = np.random.rand(5000)\n",
    "\n",
    "xa = %R xa_r\n",
    "ya1 = []\n",
    "for i in np.linspace(0, 1, 5000):\n",
    "    ya1.append(fhat(X=xa, x0=i, h=0.07))\n",
    "\n",
    "ya2 = []\n",
    "for i in np.linspace(0, 1, 5000):\n",
    "    ya2.append(fL_hat(X=xa, x0=i, h=0.07, a=0, b=1))"
   ]
  },
  {
   "cell_type": "code",
   "execution_count": 5,
   "metadata": {},
   "outputs": [
    {
     "data": {
      "image/png": "[encoded data removed]",
      "text/plain": [
       "<Figure size 864x504 with 1 Axes>"
      ]
     },
     "metadata": {
      "needs_background": "light"
     },
     "output_type": "display_data"
    }
   ],
   "source": [
    "plt.figure(figsize=(12, 7))\n",
    "plt.grid()\n",
    "plt.plot(np.linspace(0,1,5000), ya1, c=\"r\")\n",
    "plt.plot(np.linspace(0,1,5000), ya2, c=\"b\")\n",
    "plt.show()"
   ]
  },
  {
   "cell_type": "markdown",
   "metadata": {},
   "source": [
    "## (b)"
   ]
  },
  {
   "cell_type": "code",
   "execution_count": 6,
   "metadata": {},
   "outputs": [],
   "source": [
    "n = 5000"
   ]
  },
  {
   "cell_type": "code",
   "execution_count": 7,
   "metadata": {},
   "outputs": [],
   "source": [
    "SE_list_fixed = []\n",
    "for i in range(200):\n",
    "    np.random.seed(i)\n",
    "    SE_list_fixed.append((fL_hat(np.random.rand(n), x0=np.random.rand(1), h=0.08, a=0, b=1) - 1)**2)"
   ]
  },
  {
   "cell_type": "code",
   "execution_count": 8,
   "metadata": {},
   "outputs": [
    {
     "name": "stdout",
     "output_type": "stream",
     "text": [
      "IMSE with fixed:  0.0008398360524927354\n"
     ]
    }
   ],
   "source": [
    "print(\"IMSE with fixed: \", np.array(SE_list_fixed).mean())"
   ]
  },
  {
   "cell_type": "markdown",
   "metadata": {},
   "source": [
    "## (c)"
   ]
  },
  {
   "cell_type": "code",
   "execution_count": 9,
   "metadata": {},
   "outputs": [],
   "source": [
    "SE_list = []\n",
    "for i in range(200):\n",
    "    np.random.seed(i)\n",
    "    SE_list.append((fhat(np.random.rand(n), x0=np.random.rand(1), h=0.08) - 1)**2)"
   ]
  },
  {
   "cell_type": "code",
   "execution_count": 10,
   "metadata": {},
   "outputs": [
    {
     "name": "stdout",
     "output_type": "stream",
     "text": [
      "IMSE:  0.019820789839317142\n"
     ]
    }
   ],
   "source": [
    "print(\"IMSE: \", np.array(SE_list).mean())"
   ]
  },
  {
   "cell_type": "markdown",
   "metadata": {},
   "source": [
    "# Exercise 2"
   ]
  },
  {
   "cell_type": "markdown",
   "metadata": {},
   "source": [
    "## (a)"
   ]
  },
  {
   "cell_type": "code",
   "execution_count": 11,
   "metadata": {},
   "outputs": [],
   "source": [
    "n2 = 100\n",
    "x2 = np.random.randn(n2)\n",
    "h = [i/100 for i in range(1, 51, 2)]"
   ]
  },
  {
   "cell_type": "code",
   "execution_count": 12,
   "metadata": {},
   "outputs": [],
   "source": [
    "def LSCV(h):\n",
    "    def integrate_f(w):\n",
    "        return (fhat(X=x2, x0=w, h=h))**2\n",
    "    fhat_list = []\n",
    "    for j in range(100):\n",
    "        x_loo = np.delete(x2, j)\n",
    "        fhat_list.append(fhat(X=x_loo, x0=np.random.rand(1), h=h))\n",
    "    return quad(integrate_f, 0, 1)[0] - (2/n2)*sum(fhat_list)"
   ]
  },
  {
   "cell_type": "code",
   "execution_count": 13,
   "metadata": {},
   "outputs": [],
   "source": [
    "# LSCV_with_different_h = []\n",
    "# for index, h_tmp in enumerate(h, 1):\n",
    "#     np.random.seed(index)\n",
    "#     LSCV_with_different_h.append(LSCV(h=h_tmp))"
   ]
  },
  {
   "cell_type": "code",
   "execution_count": 14,
   "metadata": {},
   "outputs": [],
   "source": [
    "# dict(zip([i/100 for i in range(1,51,2)], LSCV_with_different_h))"
   ]
  },
  {
   "cell_type": "markdown",
   "metadata": {},
   "source": [
    "### 使用最佳化來查找h"
   ]
  },
  {
   "cell_type": "code",
   "execution_count": 15,
   "metadata": {},
   "outputs": [
    {
     "data": {
      "text/plain": [
       " final_simplex: (array([[0.3065625],\n",
       "       [0.3065625]]), array([-0.55089915, -0.55088723]))\n",
       "           fun: -0.5508991516116716\n",
       "       message: 'Optimization terminated successfully.'\n",
       "          nfev: 75\n",
       "           nit: 28\n",
       "        status: 0\n",
       "       success: True\n",
       "             x: array([0.3065625])"
      ]
     },
     "execution_count": 15,
     "metadata": {},
     "output_type": "execute_result"
    }
   ],
   "source": [
    "minimize(LSCV, x0=0.3, method='Nelder-Mead')"
   ]
  },
  {
   "cell_type": "code",
   "execution_count": 16,
   "metadata": {},
   "outputs": [
    {
     "data": {
      "text/plain": [
       "-0.5226037413813682"
      ]
     },
     "execution_count": 16,
     "metadata": {},
     "output_type": "execute_result"
    }
   ],
   "source": [
    "LSCV(h=0.07)"
   ]
  },
  {
   "cell_type": "code",
   "execution_count": 17,
   "metadata": {},
   "outputs": [],
   "source": [
    "def fhat2a(w):\n",
    "    X = x2\n",
    "    h = 0.07\n",
    "    return (((h*X.shape[0])**(-1) * norm.pdf((w-X)/h).sum() - norm.pdf(w))**2)"
   ]
  },
  {
   "cell_type": "code",
   "execution_count": 18,
   "metadata": {},
   "outputs": [
    {
     "data": {
      "text/plain": [
       "(0.01514593172995871, 1.3306686928417832e-10)"
      ]
     },
     "execution_count": 18,
     "metadata": {},
     "output_type": "execute_result"
    }
   ],
   "source": [
    "quad(fhat2a, 0, 1)"
   ]
  },
  {
   "cell_type": "code",
   "execution_count": 19,
   "metadata": {},
   "outputs": [],
   "source": [
    "h_lista = []\n",
    "ise_list2a = []\n",
    "for i in range(200):\n",
    "    np.random.seed(i)\n",
    "    x2 = np.random.randn(n2)\n",
    "    h2a = minimize(LSCV, x0=0.3, method='Nelder-Mead').x\n",
    "    h_lista.append(h2a)\n",
    "    ise_list2a.append(quad(fhat2a, 0, 1)[0])"
   ]
  },
  {
   "cell_type": "code",
   "execution_count": 20,
   "metadata": {},
   "outputs": [
    {
     "name": "stdout",
     "output_type": "stream",
     "text": [
      "Max:  [0.46500732] Min:  [0.1424707] Mean:  0.30638132556695447\n"
     ]
    }
   ],
   "source": [
    "print(\"Max: \", max(h_lista), \"Min: \", min(h_lista), \"Mean: \", np.array(h_lista).mean())"
   ]
  },
  {
   "cell_type": "code",
   "execution_count": 21,
   "metadata": {},
   "outputs": [
    {
     "name": "stdout",
     "output_type": "stream",
     "text": [
      "Max:  0.060872590878854965 Min:  0.0015758973670190791 Mean:  0.012346728131395417\n"
     ]
    }
   ],
   "source": [
    "print(\"Max: \", max(ise_list2a), \"Min: \", min(ise_list2a), \"Mean: \", np.array(ise_list2a).mean())"
   ]
  },
  {
   "cell_type": "code",
   "execution_count": 22,
   "metadata": {},
   "outputs": [
    {
     "name": "stdout",
     "output_type": "stream",
     "text": [
      "0.012346728131395417\n"
     ]
    }
   ],
   "source": [
    "print(np.array(ise_list2a).mean())"
   ]
  },
  {
   "cell_type": "markdown",
   "metadata": {},
   "source": [
    "## (b)"
   ]
  },
  {
   "cell_type": "code",
   "execution_count": 23,
   "metadata": {},
   "outputs": [],
   "source": [
    "def neg_LikCV(h):\n",
    "    fhat_list = []\n",
    "    for j in range(100):\n",
    "        x_loo = np.delete(x2, j)\n",
    "        fhat_list.append(fhat(X=x_loo, x0=np.random.rand(1), h=h))\n",
    "    return -1 * np.sum(np.log(np.array(fhat_list)))"
   ]
  },
  {
   "cell_type": "code",
   "execution_count": 24,
   "metadata": {},
   "outputs": [
    {
     "name": "stdout",
     "output_type": "stream",
     "text": [
      "[0.3]\n"
     ]
    }
   ],
   "source": [
    "h2b = minimize(neg_LikCV, x0=0.3, method='Nelder-Mead').x\n",
    "print(h2b)"
   ]
  },
  {
   "cell_type": "code",
   "execution_count": 25,
   "metadata": {},
   "outputs": [],
   "source": [
    "def fhat2b(w):\n",
    "    X = x2\n",
    "    return (((h2b*X.shape[0])**(-1) * norm.pdf((w-X)/h2b).sum() - norm.pdf(w))**2)"
   ]
  },
  {
   "cell_type": "code",
   "execution_count": 26,
   "metadata": {},
   "outputs": [
    {
     "data": {
      "text/plain": [
       "(0.0011206183637333146, 5.996227137113946e-13)"
      ]
     },
     "execution_count": 26,
     "metadata": {},
     "output_type": "execute_result"
    }
   ],
   "source": [
    "quad(fhat2b, 0, 1)"
   ]
  },
  {
   "cell_type": "code",
   "execution_count": 27,
   "metadata": {},
   "outputs": [
    {
     "name": "stderr",
     "output_type": "stream",
     "text": [
      "C:\\Users\\tiger\\AppData\\Local\\Programs\\Python\\Python37\\lib\\site-packages\\ipykernel_launcher.py:6: RuntimeWarning: invalid value encountered in log\n",
      "  \n"
     ]
    }
   ],
   "source": [
    "h_listb = []\n",
    "ise_list2b = []\n",
    "for i in range(200):\n",
    "    np.random.seed(i)\n",
    "    x2 = np.random.randn(n2)\n",
    "    h2b = minimize(neg_LikCV, x0=0.3, method='Nelder-Mead').x\n",
    "    h_listb.append(h2b)\n",
    "    ise_list2b.append(quad(fhat2b, 0, 1)[0])"
   ]
  },
  {
   "cell_type": "code",
   "execution_count": 28,
   "metadata": {},
   "outputs": [
    {
     "name": "stdout",
     "output_type": "stream",
     "text": [
      "Max:  0.01345560567808948 Min:  2.4354408942165068e-05 Mean:  0.0021954463385550236\n"
     ]
    }
   ],
   "source": [
    "print(\"Max: \", max(ise_list2b), \"Min: \", min(ise_list2b), \"Mean: \", np.array(ise_list2b).mean())"
   ]
  },
  {
   "cell_type": "code",
   "execution_count": 29,
   "metadata": {},
   "outputs": [
    {
     "name": "stdout",
     "output_type": "stream",
     "text": [
      "[0.46500732] [0.08894531]\n"
     ]
    }
   ],
   "source": [
    "print(max(h_listb), min(h_listb))"
   ]
  },
  {
   "cell_type": "markdown",
   "metadata": {},
   "source": [
    "# Exercise 3"
   ]
  },
  {
   "cell_type": "markdown",
   "metadata": {},
   "source": [
    "## (a)"
   ]
  },
  {
   "cell_type": "code",
   "execution_count": 30,
   "metadata": {},
   "outputs": [],
   "source": [
    "x3 = np.random.exponential(size=5000)\n",
    "h3 = 0.08"
   ]
  },
  {
   "cell_type": "code",
   "execution_count": 31,
   "metadata": {},
   "outputs": [],
   "source": [
    "fhat3a = []\n",
    "for i in range(200):\n",
    "    fhat3a.append(fhat(np.random.exponential(size=5000), 0, h3))\n",
    "fhat3a = np.array(fhat3a)"
   ]
  },
  {
   "cell_type": "code",
   "execution_count": 32,
   "metadata": {},
   "outputs": [
    {
     "data": {
      "text/plain": [
       "-0.5323099361903217"
      ]
     },
     "execution_count": 32,
     "metadata": {},
     "output_type": "execute_result"
    }
   ],
   "source": [
    "fhat3a.mean() - expon.pdf(0)"
   ]
  },
  {
   "cell_type": "markdown",
   "metadata": {},
   "source": [
    "## (b)"
   ]
  },
  {
   "cell_type": "code",
   "execution_count": 33,
   "metadata": {},
   "outputs": [],
   "source": [
    "def g2_pro(X, h, s, t):\n",
    "    ifunc = lambda v: ((v-X)/h)**2 * norm.pdf((v-X)/h)\n",
    "    return quad_vec(ifunc, s, t)[0]\n",
    "s, t = (0-np.inf)/h3, (0-0)/h3"
   ]
  },
  {
   "cell_type": "code",
   "execution_count": 34,
   "metadata": {},
   "outputs": [
    {
     "data": {
      "text/plain": [
       "array([ 2.51917054e-19,  1.28483911e-66,  3.97026515e-02, ...,\n",
       "        6.97728728e-14, -0.00000000e+00,  3.18899381e-15])"
      ]
     },
     "execution_count": 34,
     "metadata": {},
     "output_type": "execute_result"
    }
   ],
   "source": [
    "g2_pro(x3, h3, s, t)"
   ]
  },
  {
   "cell_type": "code",
   "execution_count": 37,
   "metadata": {},
   "outputs": [],
   "source": [
    "def g2_alter(s, t):\n",
    "    return -t*norm.pdf(t) + norm.cdf(t) - norm.cdf(s) + 0 # s*norm.pdf(s)\n",
    "\n",
    "def fL_hat3b(X, x0, h, a, b):\n",
    "    s, t = (x0-b)/h, (x0-a)/h\n",
    "    mu = (x0-X)/h\n",
    "    # print(g0(s, t), g1(s,t), g2_alter(X=x3, h=h, s=s, t=t).shape, mu.shape, norm.pdf(mu).shape)\n",
    "    return (h*X.shape[0])**(-1) * ((g2_alter(s=s, t=t)*norm.pdf(mu) - (g1(s, t)*mu*norm.pdf(mu))) / \\\n",
    "                                    (g0(s, t)*g2_alter(s=s, t=t) - (g1(s, t))**2)).sum()"
   ]
  },
  {
   "cell_type": "code",
   "execution_count": 38,
   "metadata": {},
   "outputs": [
    {
     "data": {
      "text/plain": [
       "0.9537745380834254"
      ]
     },
     "execution_count": 38,
     "metadata": {},
     "output_type": "execute_result"
    }
   ],
   "source": [
    "fL_hat3b(x3, 0, h3, a=0, b=np.inf)"
   ]
  },
  {
   "cell_type": "code",
   "execution_count": 39,
   "metadata": {},
   "outputs": [],
   "source": [
    "def ise3b(w):\n",
    "    return (fL_hat3b(x3, w, h3, a=0, b=np.inf) - expon.pdf(w))**2"
   ]
  },
  {
   "cell_type": "code",
   "execution_count": 40,
   "metadata": {},
   "outputs": [
    {
     "data": {
      "text/plain": [
       "(0.00026037376734303763, 1.1552850714181675e-08)"
      ]
     },
     "execution_count": 40,
     "metadata": {},
     "output_type": "execute_result"
    }
   ],
   "source": [
    "quad(ise3b, 0, np.inf)"
   ]
  },
  {
   "cell_type": "code",
   "execution_count": null,
   "metadata": {},
   "outputs": [],
   "source": []
  }
 ],
 "metadata": {
  "interpreter": {
   "hash": "3fce2e11c5144336d08cc5d637558ee0d4414e8e584c24c0ae6eb89f70b93c8d"
  },
  "kernelspec": {
   "display_name": "Python 3.7.9 64-bit",
   "language": "python",
   "name": "python3"
  },
  "language_info": {
   "codemirror_mode": {
    "name": "ipython",
    "version": 3
   },
   "file_extension": ".py",
   "mimetype": "text/x-python",
   "name": "python",
   "nbconvert_exporter": "python",
   "pygments_lexer": "ipython3",
   "version": "3.7.9"
  },
  "orig_nbformat": 4
 },
 "nbformat": 4,
 "nbformat_minor": 2
}

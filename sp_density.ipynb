{
 "cells": [
  {
   "cell_type": "code",
   "execution_count": 1,
   "metadata": {},
   "outputs": [],
   "source": [
    "import numpy as np\n",
    "import matplotlib.pyplot as plt\n",
    "from scipy.integrate import quad, quad_vec\n",
    "from scipy.optimize import minimize\n",
    "from scipy.stats import norm\n",
    "from patsy import bs"
   ]
  },
  {
   "cell_type": "code",
   "execution_count": 2,
   "metadata": {},
   "outputs": [
    {
     "name": "stderr",
     "output_type": "stream",
     "text": [
      "C:\\Users\\Jater\\AppData\\Local\\Programs\\Python\\Python38\\lib\\site-packages\\rpy2\\robjects\\packages.py:366: UserWarning: The symbol 'quartz' is not in this R namespace/package.\n",
      "  warnings.warn(\n"
     ]
    }
   ],
   "source": [
    "%load_ext rpy2.ipython"
   ]
  },
  {
   "cell_type": "code",
   "execution_count": 3,
   "metadata": {},
   "outputs": [],
   "source": [
    "%%R\n",
    "set.seed(1)\n",
    "mu1 = .2\n",
    "mu2 = .7\n",
    "n <- 1000\n",
    "m <- n*10\n",
    "z <- rnorm(m, mean=mu1, sd=.1); x <- z[(z>0)&(z<1)]\n",
    "x <- x[1:n]\n",
    "z <- rnorm(m, mean=mu2, sd=.2); x2 <- z[(z>0)&(z<1)]\n",
    "x2 <- x2[1:n]\n",
    "z <- sample(0:1, size = n, replace=T)\n",
    "x[z==1] <- x2[z==1]"
   ]
  },
  {
   "cell_type": "code",
   "execution_count": 4,
   "metadata": {},
   "outputs": [],
   "source": [
    "mu1 = %R mu1\n",
    "mu2 = %R mu2\n",
    "n = %R n\n",
    "m = %R m\n",
    "x = %R x\n",
    "x2 = %R x2\n",
    "z = %R z\n",
    "knotlist = [i/9 for i in range(1, 9)]\n",
    "nb = len(knotlist) + 4"
   ]
  },
  {
   "cell_type": "code",
   "execution_count": 5,
   "metadata": {},
   "outputs": [],
   "source": [
    "M = np.zeros((nb, nb))\n",
    "for i in range(nb):\n",
    "    for j in range(nb):\n",
    "        def tem(u):\n",
    "            bx = bs(x=u, knots=knotlist, include_intercept=True, lower_bound=0, upper_bound=1)\n",
    "            return bx[:, i]*bx[:, j]\n",
    "        M[i, j] = quad(tem, 0, 1)[0]\n",
    "        if j > i:\n",
    "            M[j, i] = M[i, j]"
   ]
  },
  {
   "cell_type": "markdown",
   "metadata": {},
   "source": [
    "### MLE fhat"
   ]
  },
  {
   "cell_type": "code",
   "execution_count": 6,
   "metadata": {},
   "outputs": [],
   "source": [
    "def ln_fa(a):\n",
    "    bx = bs(x=x, knots=knotlist, include_intercept=True, lower_bound=0, upper_bound=1)\n",
    "    def temp(w):\n",
    "        bx = bs(x=w, knots=knotlist, include_intercept=True, lower_bound=0, upper_bound=1)\n",
    "        return np.exp(bx @ a)\n",
    "    return -1*(bx @ (a - np.log(quad_vec(temp, 0, 1)[0]))).sum()"
   ]
  },
  {
   "cell_type": "code",
   "execution_count": 7,
   "metadata": {},
   "outputs": [],
   "source": [
    "a = minimize(ln_fa, np.zeros(12))"
   ]
  },
  {
   "cell_type": "code",
   "execution_count": 8,
   "metadata": {},
   "outputs": [
    {
     "name": "stdout",
     "output_type": "stream",
     "text": [
      "      fun: -82.89880118926378\n",
      " hess_inv: array([[ 1.27983973e-01, -1.99080781e-01,  9.90405212e-02,\n",
      "        -1.22711365e-01,  5.98795570e-02, -1.65832291e-01,\n",
      "         5.82831191e-02, -8.21794054e-03, -7.75905025e-02,\n",
      "         3.19480554e-02, -4.23788939e-02, -2.30307286e-01],\n",
      "       [-1.99080781e-01,  6.15282890e-01, -2.47354894e-01,\n",
      "         4.49133872e-01, -2.40220856e-01,  7.10462600e-01,\n",
      "        -2.06649322e-01,  4.98666147e-04,  3.65888943e-01,\n",
      "        -1.72381403e-01,  2.99097902e-01,  6.70461482e-01],\n",
      "       [ 9.90405212e-02, -2.47354894e-01,  1.22279144e-01,\n",
      "        -1.84420214e-01,  9.48419579e-02, -2.68361200e-01,\n",
      "         7.42749290e-02, -1.97650946e-03, -1.34682459e-01,\n",
      "         5.79159366e-02, -1.20951605e-01, -2.61851939e-01],\n",
      "       [-1.22711365e-01,  4.49133872e-01, -1.84420214e-01,\n",
      "         3.88707498e-01, -2.08705396e-01,  5.97243145e-01,\n",
      "        -1.66127065e-01,  9.17428171e-03,  3.00690887e-01,\n",
      "        -1.27525253e-01,  2.49434212e-01,  5.30559339e-01],\n",
      "       [ 5.98795570e-02, -2.40220856e-01,  9.48419579e-02,\n",
      "        -2.08705396e-01,  1.31917672e-01, -3.41331064e-01,\n",
      "         1.02023052e-01, -9.69356787e-03, -1.57917282e-01,\n",
      "         6.70117249e-02, -1.38645872e-01, -3.17494093e-01],\n",
      "       [-1.65832291e-01,  7.10462600e-01, -2.68361200e-01,\n",
      "         5.97243145e-01, -3.41331064e-01,  1.00424370e+00,\n",
      "        -2.82115619e-01,  1.28297065e-02,  4.90869177e-01,\n",
      "        -2.02611383e-01,  3.93389507e-01,  8.85135556e-01],\n",
      "       [ 5.82831191e-02, -2.06649322e-01,  7.42749290e-02,\n",
      "        -1.66127065e-01,  1.02023052e-01, -2.82115619e-01,\n",
      "         9.65562767e-02, -1.19410580e-02, -1.39001117e-01,\n",
      "         5.84352163e-02, -1.16052846e-01, -2.62998672e-01],\n",
      "       [-8.21794054e-03,  4.98666147e-04, -1.97650946e-03,\n",
      "         9.17428171e-03, -9.69356787e-03,  1.28297065e-02,\n",
      "        -1.19410580e-02,  3.86798174e-02, -1.12902361e-02,\n",
      "         8.32206850e-03, -2.54787025e-03, -7.97354582e-03],\n",
      "       [-7.75905025e-02,  3.65888943e-01, -1.34682459e-01,\n",
      "         3.00690887e-01, -1.57917282e-01,  4.90869177e-01,\n",
      "        -1.39001117e-01, -1.12902361e-02,  2.71959888e-01,\n",
      "        -1.13691560e-01,  2.05533810e-01,  4.29923338e-01],\n",
      "       [ 3.19480554e-02, -1.72381403e-01,  5.79159366e-02,\n",
      "        -1.27525253e-01,  6.70117249e-02, -2.02611383e-01,\n",
      "         5.84352163e-02,  8.32206850e-03, -1.13691560e-01,\n",
      "         7.46905173e-02, -1.21849572e-01, -1.69117628e-01],\n",
      "       [-4.23788939e-02,  2.99097902e-01, -1.20951605e-01,\n",
      "         2.49434212e-01, -1.38645872e-01,  3.93389507e-01,\n",
      "        -1.16052846e-01, -2.54787025e-03,  2.05533810e-01,\n",
      "        -1.21849572e-01,  2.75069927e-01,  2.66111502e-01],\n",
      "       [-2.30307286e-01,  6.70461482e-01, -2.61851939e-01,\n",
      "         5.30559339e-01, -3.17494093e-01,  8.85135556e-01,\n",
      "        -2.62998672e-01, -7.97354582e-03,  4.29923338e-01,\n",
      "        -1.69117628e-01,  2.66111502e-01,  9.69625440e-01]])\n",
      "      jac: array([-5.72204590e-06,  1.62124634e-05,  4.48226929e-05,  2.09808350e-05,\n",
      "        1.52587891e-05,  8.58306885e-06,  9.53674316e-07, -2.76565552e-05,\n",
      "        9.53674316e-06,  4.86373901e-05,  3.91006470e-05,  3.33786011e-05])\n",
      "  message: 'Desired error not necessarily achieved due to precision loss.'\n",
      "     nfev: 1246\n",
      "      nit: 22\n",
      "     njev: 95\n",
      "   status: 2\n",
      "  success: False\n",
      "        x: array([-0.94037909, -0.06746493,  0.51610811,  1.23369828,  0.13993634,\n",
      "       -0.70062369,  0.33232968,  0.26820735,  0.3904477 , -0.00854699,\n",
      "       -0.324794  , -0.83912148])\n"
     ]
    }
   ],
   "source": [
    "print(a)"
   ]
  },
  {
   "cell_type": "markdown",
   "metadata": {},
   "source": [
    "### True density f"
   ]
  },
  {
   "cell_type": "code",
   "execution_count": 9,
   "metadata": {},
   "outputs": [],
   "source": [
    "k0 = norm.cdf(1, loc=mu1, scale=0.1) - norm.cdf(0, loc=mu1, scale=0.1)\n",
    "k1 = norm.cdf(1, loc=mu2, scale=0.2) - norm.cdf(0, loc=mu2, scale=0.2)\n",
    "def f(u):\n",
    "    ans = 0.5*norm.pdf(u, loc=mu1, scale=.1)/k0 + 0.5*norm.pdf(u, loc=mu2, scale=.2)/k1\n",
    "    ans[u>1] = 0\n",
    "    ans[u<0] = 0\n",
    "    return ans"
   ]
  },
  {
   "cell_type": "code",
   "execution_count": 22,
   "metadata": {},
   "outputs": [],
   "source": [
    "def inside(w):\n",
    "    bx = bs(x=w, knots=knotlist, include_intercept=True, lower_bound=0, upper_bound=1)\n",
    "    return np.exp(bx @ a.x)\n",
    "\n",
    "def fa(u):\n",
    "    return inside(u) / quad(inside, 0, 1)[0]"
   ]
  },
  {
   "cell_type": "code",
   "execution_count": 18,
   "metadata": {},
   "outputs": [],
   "source": [
    "def fa2(u):\n",
    "    bx = bs(x=u, knots=knotlist, include_intercept=True, lower_bound=0, upper_bound=1)\n",
    "    def temp(w):\n",
    "        bx = bs(x=w, knots=knotlist, include_intercept=True, lower_bound=0, upper_bound=1)\n",
    "        return np.exp(bx @ a.x)\n",
    "    return np.exp(bx @ (a.x - np.log(quad_vec(temp, 0, 1)[0])))"
   ]
  },
  {
   "cell_type": "code",
   "execution_count": 12,
   "metadata": {},
   "outputs": [],
   "source": [
    "def ise(u):\n",
    "    return (fa(u) - f(u))**2"
   ]
  },
  {
   "cell_type": "code",
   "execution_count": null,
   "metadata": {},
   "outputs": [],
   "source": [
    "# quad_vec(ise, 0, 1)[0]"
   ]
  },
  {
   "cell_type": "code",
   "execution_count": 14,
   "metadata": {},
   "outputs": [
    {
     "data": {
      "text/plain": [
       "[]"
      ]
     },
     "execution_count": 14,
     "metadata": {},
     "output_type": "execute_result"
    },
    {
     "data": {
      "image/png": "[encoded data removed]",
      "text/plain": [
       "<Figure size 1152x648 with 1 Axes>"
      ]
     },
     "metadata": {
      "needs_background": "light"
     },
     "output_type": "display_data"
    }
   ],
   "source": [
    "plt.figure(figsize=(16,9))\n",
    "plt.grid()\n",
    "plt.scatter(x, fa(x), c=\"r\")\n",
    "plt.scatter(x, f(x))\n",
    "plt.plot()"
   ]
  },
  {
   "cell_type": "code",
   "execution_count": 34,
   "metadata": {},
   "outputs": [
    {
     "data": {
      "text/plain": [
       "0.005864052710608343"
      ]
     },
     "execution_count": 34,
     "metadata": {},
     "output_type": "execute_result"
    }
   ],
   "source": [
    "((fa(np.linspace(0,1,10000)) - f(np.linspace(0,1,10000)))**2).mean()"
   ]
  },
  {
   "cell_type": "code",
   "execution_count": null,
   "metadata": {},
   "outputs": [],
   "source": []
  }
 ],
 "metadata": {
  "interpreter": {
   "hash": "3fce2e11c5144336d08cc5d637558ee0d4414e8e584c24c0ae6eb89f70b93c8d"
  },
  "kernelspec": {
   "display_name": "Python 3.7.9 64-bit",
   "language": "python",
   "name": "python3"
  },
  "language_info": {
   "codemirror_mode": {
    "name": "ipython",
    "version": 3
   },
   "file_extension": ".py",
   "mimetype": "text/x-python",
   "name": "python",
   "nbconvert_exporter": "python",
   "pygments_lexer": "ipython3",
   "version": "3.8.10"
  },
  "orig_nbformat": 4
 },
 "nbformat": 4,
 "nbformat_minor": 2
}

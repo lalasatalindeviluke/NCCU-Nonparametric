{
 "cells": [
  {
   "cell_type": "code",
   "execution_count": 1,
   "metadata": {},
   "outputs": [],
   "source": [
    "import numpy as np\n",
    "from scipy import integrate\n",
    "from scipy import stats"
   ]
  },
  {
   "cell_type": "code",
   "execution_count": 2,
   "metadata": {},
   "outputs": [
    {
     "name": "stderr",
     "output_type": "stream",
     "text": [
      "C:\\Users\\tiger\\AppData\\Local\\Programs\\Python\\Python37\\lib\\site-packages\\rpy2\\robjects\\packages.py:367: UserWarning: The symbol 'quartz' is not in this R namespace/package.\n",
      "  \"The symbol '%s' is not in this R namespace/package.\" % name\n"
     ]
    }
   ],
   "source": [
    "%load_ext rpy2.ipython"
   ]
  },
  {
   "cell_type": "markdown",
   "metadata": {},
   "source": [
    "# Exercise 1"
   ]
  },
  {
   "cell_type": "code",
   "execution_count": 3,
   "metadata": {},
   "outputs": [],
   "source": [
    "def f_hat(x0, X, Y, h):\n",
    "     for d in range(X.shape[1]):\n",
    "          if d == 0:\n",
    "               kernel_func = stats.norm.pdf((x0[d]-X[:,d])/h)\n",
    "          else:\n",
    "               kernel_func *= stats.norm.pdf((x0[d]-X[:,d])/h)\n",
    "     output = (Y*kernel_func).sum() / (kernel_func).sum()\n",
    "     return output"
   ]
  },
  {
   "cell_type": "markdown",
   "metadata": {},
   "source": [
    "# Exercise 2"
   ]
  },
  {
   "cell_type": "code",
   "execution_count": 4,
   "metadata": {},
   "outputs": [],
   "source": [
    "%%R\n",
    "set.seed(1)\n",
    "f <- function(x1,x2){ dnorm(x1-0.5, sd=0.2)*dnorm(x2-0.5, sd=0.2) }\n",
    "n <- 1000\n",
    "Xr <- matrix(runif(n*2), n, 2)\n",
    "yr <- f(Xr[,1],Xr[,2]) + rnorm(n,sd=0.4)"
   ]
  },
  {
   "cell_type": "code",
   "execution_count": 5,
   "metadata": {},
   "outputs": [],
   "source": [
    "Xr = %R Xr\n",
    "yr = %R yr"
   ]
  },
  {
   "cell_type": "code",
   "execution_count": 6,
   "metadata": {},
   "outputs": [],
   "source": [
    "def f(x1, x2):\n",
    "    return stats.norm.pdf(x=x1-0.5, loc=0, scale=0.2)*stats.norm.pdf(x=x2-0.5, loc=0, scale=0.2)"
   ]
  },
  {
   "cell_type": "code",
   "execution_count": 7,
   "metadata": {},
   "outputs": [],
   "source": [
    "np.random.seed(43)\n",
    "n = 1000\n",
    "X = np.random.rand(n, 2)\n",
    "y = f(X[:,0], X[:,1]) + np.random.randn(n)*0.4"
   ]
  },
  {
   "cell_type": "code",
   "execution_count": 8,
   "metadata": {},
   "outputs": [
    {
     "data": {
      "text/plain": [
       "-0.2198952056315937"
      ]
     },
     "execution_count": 8,
     "metadata": {},
     "output_type": "execute_result"
    }
   ],
   "source": [
    "f_hat([0.5,0.5], X, y, 0.05) - f(0.5, 0.5)"
   ]
  },
  {
   "cell_type": "code",
   "execution_count": 9,
   "metadata": {},
   "outputs": [
    {
     "data": {
      "text/plain": [
       "-0.2601135051721353"
      ]
     },
     "execution_count": 9,
     "metadata": {},
     "output_type": "execute_result"
    }
   ],
   "source": [
    "f_hat([0.5,0.5], Xr, yr, 0.05) - f(0.5, 0.5)"
   ]
  },
  {
   "cell_type": "code",
   "execution_count": 23,
   "metadata": {},
   "outputs": [
    {
     "data": {
      "text/plain": [
       "3.7187600721252485"
      ]
     },
     "execution_count": 23,
     "metadata": {},
     "output_type": "execute_result"
    }
   ],
   "source": [
    "f_hat([0.5,0.5], Xr, yr, 0.05)"
   ]
  },
  {
   "cell_type": "code",
   "execution_count": 10,
   "metadata": {},
   "outputs": [
    {
     "data": {
      "text/plain": [
       "3.978873577297384"
      ]
     },
     "execution_count": 10,
     "metadata": {},
     "output_type": "execute_result"
    }
   ],
   "source": [
    "f(0.5, 0.5)"
   ]
  },
  {
   "cell_type": "code",
   "execution_count": 28,
   "metadata": {},
   "outputs": [],
   "source": [
    "ise_list = []\n",
    "for i in range(10000):\n",
    "    np.random.seed(i)\n",
    "    # X = np.random.rand(n, 2)\n",
    "    # y = f(X[:,0], X[:,1]) + np.random.randn(n)*0.4\n",
    "    x01, x02 = stats.uniform.rvs(), stats.uniform.rvs()\n",
    "    ise_list.append((f_hat([x01, x02], Xr, yr, 0.05) - f(x01, x02))**2)"
   ]
  },
  {
   "cell_type": "code",
   "execution_count": 29,
   "metadata": {},
   "outputs": [
    {
     "name": "stdout",
     "output_type": "stream",
     "text": [
      "[0.0008123619327146109, 0.001842100378512959, 0.003113488768461792, 0.0011284672044820758, 0.005483514520866844, 0.0006414445864956372, 0.00361921476961995, 0.003631872206123558, 0.005316673865444197, 0.012957457856968481, 0.036796021667950415, 0.0038083138696890033, 0.000603110625533947, 0.00858796579473635, 0.0014881324084027407, 0.0009068708767565502, 0.0003632150418047183, 0.018380629425406452, 0.0006043072539297876, 0.0030538785371233977]\n"
     ]
    }
   ],
   "source": [
    "print(ise_list[:20])"
   ]
  },
  {
   "cell_type": "code",
   "execution_count": 30,
   "metadata": {},
   "outputs": [
    {
     "name": "stdout",
     "output_type": "stream",
     "text": [
      "Monte Carlo Integration:  0.009604522214639014\n"
     ]
    }
   ],
   "source": [
    "print(\"Monte Carlo Integration: \", sum(ise_list)/10000)"
   ]
  },
  {
   "cell_type": "code",
   "execution_count": 31,
   "metadata": {},
   "outputs": [
    {
     "name": "stdout",
     "output_type": "stream",
     "text": [
      "Confidence Interval:  [0.009315421169792993, 0.009893623259484948]\n"
     ]
    }
   ],
   "source": [
    "ise_array = np.array(ise_list)\n",
    "print(\"Confidence Interval: \", [ise_array.mean()-stats.norm.ppf(1-0.025)*(ise_array.std()/np.sqrt(10000)),\n",
    "                                ise_array.mean()+stats.norm.ppf(1-0.025)*(ise_array.std()/np.sqrt(10000))])"
   ]
  },
  {
   "cell_type": "markdown",
   "metadata": {},
   "source": [
    "# Exercise 3"
   ]
  },
  {
   "cell_type": "code",
   "execution_count": 37,
   "metadata": {},
   "outputs": [],
   "source": [
    "def f3(x1, x2, x3):\n",
    "    return stats.norm.pdf(x=x1-0.5, loc=0, scale=0.2)*stats.norm.pdf(x=x2-0.5, loc=0, scale=0.2)*stats.norm.pdf(x=x3-0.5, loc=0, scale=0.2)"
   ]
  },
  {
   "cell_type": "code",
   "execution_count": 46,
   "metadata": {},
   "outputs": [],
   "source": [
    "%%R\n",
    "set.seed(1)\n",
    "f <- function(x1,x2,x3){\n",
    "dnorm(x1-0.5, sd=0.2)*dnorm(x2-0.5, sd=0.2)* dnorm(x3-0.5, sd=0.2)\n",
    "}\n",
    "n <- 1000\n",
    "Xr3 <- matrix(runif(n*3), n, 3)\n",
    "yr3 <- f(Xr3[,1], Xr3[,2], Xr3[,3]) + rnorm(n,sd=0.4)"
   ]
  },
  {
   "cell_type": "code",
   "execution_count": 47,
   "metadata": {},
   "outputs": [],
   "source": [
    "Xr3 = %R Xr3\n",
    "yr3 = %R yr3"
   ]
  },
  {
   "cell_type": "code",
   "execution_count": 16,
   "metadata": {},
   "outputs": [],
   "source": [
    "X3 = np.random.rand(n, 3)\n",
    "y3 = f3(X3[:,0], X3[:,1], X3[:,2]) + np.random.randn(n)*0.4"
   ]
  },
  {
   "cell_type": "code",
   "execution_count": 49,
   "metadata": {},
   "outputs": [
    {
     "data": {
      "text/plain": [
       "-1.0995317576538843"
      ]
     },
     "execution_count": 49,
     "metadata": {},
     "output_type": "execute_result"
    }
   ],
   "source": [
    "f_hat([0.5, 0.5, 0.5], Xr3, yr3, 0.05) - f3(0.5, 0.5, 0.5)"
   ]
  },
  {
   "cell_type": "code",
   "execution_count": 50,
   "metadata": {},
   "outputs": [],
   "source": [
    "ise_list3 = []\n",
    "for i in range(10000):\n",
    "    np.random.seed(i)\n",
    "    # X3 = np.random.rand(n, 3)\n",
    "    # y3 = f3(X3[:,0], X3[:,1], X3[:,2]) + np.random.randn(n)*0.4\n",
    "    x01, x02, x03 = stats.uniform.rvs(), stats.uniform.rvs(), stats.uniform.rvs()\n",
    "    ise_list3.append((f_hat([x01, x02, x03], Xr3, yr3, 0.05) - f3(x01, x02, x03))**2)"
   ]
  },
  {
   "cell_type": "code",
   "execution_count": 51,
   "metadata": {},
   "outputs": [
    {
     "name": "stdout",
     "output_type": "stream",
     "text": [
      "Monte Carlo Integration:  0.07648147408703627\n",
      "Confidence Interval:  [0.07378199275509527, 0.07918095541897728]\n"
     ]
    }
   ],
   "source": [
    "ise_array3 = np.array(ise_list3)\n",
    "print(\"Monte Carlo Integration: \", ise_array3.mean())\n",
    "print(\"Confidence Interval: \", [ise_array3.mean()-stats.norm.ppf(1-0.025)*(ise_array3.std()/np.sqrt(10000)),\n",
    "                                ise_array3.mean()+stats.norm.ppf(1-0.025)*(ise_array3.std()/np.sqrt(10000))])"
   ]
  },
  {
   "cell_type": "code",
   "execution_count": null,
   "metadata": {},
   "outputs": [],
   "source": []
  }
 ],
 "metadata": {
  "interpreter": {
   "hash": "3fce2e11c5144336d08cc5d637558ee0d4414e8e584c24c0ae6eb89f70b93c8d"
  },
  "kernelspec": {
   "display_name": "Python 3.7.9 64-bit",
   "language": "python",
   "name": "python3"
  },
  "language_info": {
   "codemirror_mode": {
    "name": "ipython",
    "version": 3
   },
   "file_extension": ".py",
   "mimetype": "text/x-python",
   "name": "python",
   "nbconvert_exporter": "python",
   "pygments_lexer": "ipython3",
   "version": "3.7.9"
  },
  "orig_nbformat": 4
 },
 "nbformat": 4,
 "nbformat_minor": 2
}

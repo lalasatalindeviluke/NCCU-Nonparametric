{
 "cells": [
  {
   "cell_type": "code",
   "execution_count": 1,
   "metadata": {},
   "outputs": [],
   "source": [
    "import numpy as np\n",
    "from patsy import bs\n",
    "import statsmodels.api as sm\n",
    "from scipy.stats import chi2, kstest, uniform\n",
    "import math"
   ]
  },
  {
   "cell_type": "code",
   "execution_count": 2,
   "metadata": {},
   "outputs": [
    {
     "name": "stderr",
     "output_type": "stream",
     "text": [
      "C:\\Users\\Jater\\AppData\\Local\\Programs\\Python\\Python38\\lib\\site-packages\\rpy2\\robjects\\packages.py:366: UserWarning: The symbol 'quartz' is not in this R namespace/package.\n",
      "  warnings.warn(\n"
     ]
    }
   ],
   "source": [
    "%load_ext rpy2.ipython"
   ]
  },
  {
   "cell_type": "markdown",
   "metadata": {},
   "source": [
    "### Exercise 1"
   ]
  },
  {
   "cell_type": "markdown",
   "metadata": {},
   "source": [
    "#### (a)"
   ]
  },
  {
   "cell_type": "code",
   "execution_count": 3,
   "metadata": {},
   "outputs": [],
   "source": [
    "%%R\n",
    "n <- 150\n",
    "set.seed(1)\n",
    "x <- runif(n)\n",
    "y <- sin(2*x) + runif(n, -0.1, 0.1)*10"
   ]
  },
  {
   "cell_type": "code",
   "execution_count": 4,
   "metadata": {},
   "outputs": [],
   "source": [
    "n = %R n\n",
    "x = %R x\n",
    "y = %R y"
   ]
  },
  {
   "cell_type": "code",
   "execution_count": 5,
   "metadata": {},
   "outputs": [],
   "source": [
    "bx = bs(x=x, knots=[0.5], degree=3, lower_bound=0, upper_bound=1, include_intercept=True)\n",
    "lm_design_matrix = sm.add_constant(x)"
   ]
  },
  {
   "cell_type": "code",
   "execution_count": 6,
   "metadata": {},
   "outputs": [],
   "source": [
    "fhat_model = sm.OLS(y, bx)\n",
    "fhat_results = fhat_model.fit()\n",
    "lm_model = sm.OLS(y, lm_design_matrix)\n",
    "lm_results = lm_model.fit()"
   ]
  },
  {
   "cell_type": "code",
   "execution_count": 7,
   "metadata": {},
   "outputs": [
    {
     "name": "stdout",
     "output_type": "stream",
     "text": [
      "9.038138740699818\n"
     ]
    }
   ],
   "source": [
    "W = (lm_results.resid**2).sum() / (fhat_results.resid**2).sum()\n",
    "print((n*np.log(W)).item())"
   ]
  },
  {
   "cell_type": "code",
   "execution_count": 8,
   "metadata": {},
   "outputs": [
    {
     "data": {
      "text/plain": [
       "0.02878808536319888"
      ]
     },
     "execution_count": 8,
     "metadata": {},
     "output_type": "execute_result"
    }
   ],
   "source": [
    "1-chi2.cdf(x=9.03813874, df=3)"
   ]
  },
  {
   "cell_type": "markdown",
   "metadata": {},
   "source": [
    "#### (b)"
   ]
  },
  {
   "cell_type": "code",
   "execution_count": 9,
   "metadata": {},
   "outputs": [],
   "source": [
    "def W_func(x, y, resid=False):\n",
    "    n = y.size\n",
    "    bx = bs(x=x, knots=[0.5], degree=3, lower_bound=0, upper_bound=1, include_intercept=True)\n",
    "    fhat_result = sm.OLS(y, bx).fit()\n",
    "    lm_results = sm.OLS(y, sm.add_constant(x)).fit()\n",
    "    rss0 = (lm_results.resid**2).sum()\n",
    "    rss = (fhat_result.resid**2).sum()\n",
    "    if resid:\n",
    "        return ((n*np.log(rss0/rss)).item(), fhat_result.resid)\n",
    "    return (n*np.log(rss0/rss)).item()"
   ]
  },
  {
   "cell_type": "code",
   "execution_count": 10,
   "metadata": {},
   "outputs": [],
   "source": [
    "def pv_fun(x, y, m):\n",
    "    W_obs, resid = W_func(x, y, resid=True)\n",
    "    nlogW = []\n",
    "    n = y.size\n",
    "    for i in range(m):\n",
    "        np.random.seed(3*i)\n",
    "        epsilon = np.random.choice(resid, size=n)\n",
    "        y_new = np.mean(y) + epsilon\n",
    "        nlogW.append(W_func(x, y_new))\n",
    "    nlogW = np.array(nlogW)\n",
    "    return nlogW[nlogW>W_obs].size / m"
   ]
  },
  {
   "cell_type": "code",
   "execution_count": 11,
   "metadata": {},
   "outputs": [
    {
     "data": {
      "text/plain": [
       "0.02"
      ]
     },
     "execution_count": 11,
     "metadata": {},
     "output_type": "execute_result"
    }
   ],
   "source": [
    "pv_fun(x, y, 200)"
   ]
  },
  {
   "cell_type": "code",
   "execution_count": null,
   "metadata": {},
   "outputs": [],
   "source": []
  },
  {
   "cell_type": "markdown",
   "metadata": {},
   "source": [
    "### Exercise 2"
   ]
  },
  {
   "cell_type": "markdown",
   "metadata": {},
   "source": [
    "#### (a)"
   ]
  },
  {
   "cell_type": "code",
   "execution_count": 12,
   "metadata": {},
   "outputs": [],
   "source": [
    "pvalues_a = []\n",
    "for i in range(500):\n",
    "    np.random.seed(i)\n",
    "    n2 = 150\n",
    "    x2 = np.random.rand(n2)\n",
    "    y2 = 1 + x2 + np.random.uniform(low=-0.1, high=0.1, size=n2)*5\n",
    "    pvalues_a.append(1-chi2.cdf(x=W_func(x2, y2), df=3))"
   ]
  },
  {
   "cell_type": "code",
   "execution_count": 13,
   "metadata": {},
   "outputs": [
    {
     "data": {
      "text/plain": [
       "KstestResult(statistic=0.05824703990145641, pvalue=0.06460145463962808)"
      ]
     },
     "execution_count": 13,
     "metadata": {},
     "output_type": "execute_result"
    }
   ],
   "source": [
    "kstest(rvs=pvalues_a, cdf=\"uniform\")"
   ]
  },
  {
   "cell_type": "markdown",
   "metadata": {},
   "source": [
    "#### (b)"
   ]
  },
  {
   "cell_type": "code",
   "execution_count": 14,
   "metadata": {},
   "outputs": [],
   "source": [
    "pvalues_b = []\n",
    "for i in range(500):\n",
    "    np.random.seed(i)\n",
    "    n3 = 5000\n",
    "    x3 = np.random.rand(n3)\n",
    "    y3 = 1 + x3 + np.random.uniform(low=-0.1, high=0.1, size=n3)*5\n",
    "    pvalues_b.append(1-chi2.cdf(x=W_func(x3, y3), df=3))"
   ]
  },
  {
   "cell_type": "code",
   "execution_count": 15,
   "metadata": {},
   "outputs": [
    {
     "data": {
      "text/plain": [
       "KstestResult(statistic=0.024483939175173886, pvalue=0.9180192973880814)"
      ]
     },
     "execution_count": 15,
     "metadata": {},
     "output_type": "execute_result"
    }
   ],
   "source": [
    "kstest(rvs=pvalues_b, cdf=\"uniform\")"
   ]
  },
  {
   "cell_type": "code",
   "execution_count": null,
   "metadata": {},
   "outputs": [],
   "source": []
  }
 ],
 "metadata": {
  "interpreter": {
   "hash": "3fce2e11c5144336d08cc5d637558ee0d4414e8e584c24c0ae6eb89f70b93c8d"
  },
  "kernelspec": {
   "display_name": "Python 3.7.9 64-bit",
   "language": "python",
   "name": "python3"
  },
  "language_info": {
   "codemirror_mode": {
    "name": "ipython",
    "version": 3
   },
   "file_extension": ".py",
   "mimetype": "text/x-python",
   "name": "python",
   "nbconvert_exporter": "python",
   "pygments_lexer": "ipython3",
   "version": "3.8.10"
  },
  "orig_nbformat": 4
 },
 "nbformat": 4,
 "nbformat_minor": 2
}

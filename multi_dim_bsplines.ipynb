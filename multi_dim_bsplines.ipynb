{
 "cells": [
  {
   "cell_type": "code",
   "execution_count": 1,
   "metadata": {},
   "outputs": [],
   "source": [
    "import numpy as np\n",
    "import patsy\n",
    "import statsmodels.api as sm\n",
    "from scipy import stats"
   ]
  },
  {
   "cell_type": "markdown",
   "metadata": {},
   "source": [
    "# Exercise 1"
   ]
  },
  {
   "cell_type": "code",
   "execution_count": 2,
   "metadata": {},
   "outputs": [],
   "source": [
    "def f(x):\n",
    "    return stats.norm.pdf(x[:,0]-0.5, scale=0.2) * stats.norm.pdf(x[:,1]-0.5, scale=0.2)"
   ]
  },
  {
   "cell_type": "code",
   "execution_count": 3,
   "metadata": {},
   "outputs": [],
   "source": [
    "n = 10000\n",
    "X = np.random.uniform(size=(1000, 2))\n",
    "y = f(X) + np.random.randn(1000)*0.4\n",
    "knots1 = [1/4, 2/4, 3/4]\n",
    "deg = 3"
   ]
  },
  {
   "cell_type": "code",
   "execution_count": 4,
   "metadata": {},
   "outputs": [],
   "source": [
    "def bx_bspline(x, m):\n",
    "    knots = [(i/(m+1)) for i in range(1, m+1)]\n",
    "    return patsy.bs(x=x, knots=knots, degree=3, include_intercept=True, lower_bound=0, upper_bound=1)\n",
    "\n",
    "def bx_tensor(x, m):\n",
    "    basis_num = m + 1 + 3\n",
    "    bx1 = bx_bspline(x=x[:, 0], m=m)\n",
    "    bx2 = bx_bspline(x=x[:, 1], m=m)\n",
    "    tmp_list = [bx1[:,i].reshape((-1,1))*bx2 for i in range(basis_num)]\n",
    "    output = np.hstack(tmp_list)\n",
    "    return output\n",
    "\n",
    "def get_fhat(x, y, m):\n",
    "    bx = bx_tensor(x=x, m=m)\n",
    "    coef = sm.OLS(y, bx).fit().params\n",
    "    fhat = bx @ coef\n",
    "    return fhat"
   ]
  },
  {
   "cell_type": "code",
   "execution_count": 5,
   "metadata": {},
   "outputs": [],
   "source": [
    "fhat = get_fhat(X, y, 3)"
   ]
  },
  {
   "cell_type": "code",
   "execution_count": 6,
   "metadata": {},
   "outputs": [
    {
     "data": {
      "text/plain": [
       "0.007093651213111497"
      ]
     },
     "execution_count": 6,
     "metadata": {},
     "output_type": "execute_result"
    }
   ],
   "source": [
    "np.mean((fhat-f(X))**2)"
   ]
  },
  {
   "cell_type": "markdown",
   "metadata": {},
   "source": [
    "# Exercise 2"
   ]
  },
  {
   "cell_type": "code",
   "execution_count": 7,
   "metadata": {},
   "outputs": [],
   "source": [
    "def bx_tensor2(x, m):\n",
    "    basis_num = m + 1 + 3\n",
    "    bx1 = bx_bspline(x=x[:, 0], m=m)\n",
    "    bx2 = bx_bspline(x=x[:, 1], m=m)\n",
    "    output = np.hstack((bx1, bx2))\n",
    "    return output[:, :-1]\n",
    "\n",
    "def get_fhat2(x, y, m):\n",
    "    bx = bx_tensor2(x=x, m=m)\n",
    "    coef = sm.OLS(y, bx).fit().params\n",
    "    fhat = bx @ coef\n",
    "    return fhat"
   ]
  },
  {
   "cell_type": "code",
   "execution_count": 8,
   "metadata": {},
   "outputs": [],
   "source": [
    "fhat2 = get_fhat2(X, y, 3)"
   ]
  },
  {
   "cell_type": "code",
   "execution_count": 9,
   "metadata": {},
   "outputs": [
    {
     "data": {
      "text/plain": [
       "0.18694411961673812"
      ]
     },
     "execution_count": 9,
     "metadata": {},
     "output_type": "execute_result"
    }
   ],
   "source": [
    "np.mean((fhat2-f(X))**2)"
   ]
  },
  {
   "cell_type": "code",
   "execution_count": null,
   "metadata": {},
   "outputs": [],
   "source": []
  },
  {
   "cell_type": "code",
   "execution_count": null,
   "metadata": {},
   "outputs": [],
   "source": []
  }
 ],
 "metadata": {
  "interpreter": {
   "hash": "3fce2e11c5144336d08cc5d637558ee0d4414e8e584c24c0ae6eb89f70b93c8d"
  },
  "kernelspec": {
   "display_name": "Python 3.7.9 64-bit",
   "language": "python",
   "name": "python3"
  },
  "language_info": {
   "codemirror_mode": {
    "name": "ipython",
    "version": 3
   },
   "file_extension": ".py",
   "mimetype": "text/x-python",
   "name": "python",
   "nbconvert_exporter": "python",
   "pygments_lexer": "ipython3",
   "version": "3.8.10"
  },
  "orig_nbformat": 4
 },
 "nbformat": 4,
 "nbformat_minor": 2
}

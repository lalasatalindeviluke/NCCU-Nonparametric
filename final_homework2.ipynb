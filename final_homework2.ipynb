{
 "cells": [
  {
   "cell_type": "code",
   "execution_count": 1,
   "metadata": {},
   "outputs": [],
   "source": [
    "import numpy as np\n",
    "import random\n",
    "import patsy\n",
    "import statsmodels.api as sm\n",
    "from scipy.stats import chi2"
   ]
  },
  {
   "cell_type": "markdown",
   "metadata": {},
   "source": [
    "## Exercise 2"
   ]
  },
  {
   "cell_type": "code",
   "execution_count": 2,
   "metadata": {},
   "outputs": [],
   "source": [
    "def f(x1, x2):\n",
    "    assert x1.size == x2.size\n",
    "    return np.sin(x1) + np.cos(x2)"
   ]
  },
  {
   "cell_type": "code",
   "execution_count": 3,
   "metadata": {},
   "outputs": [],
   "source": [
    "n2 = 1000\n",
    "X = np.random.uniform(size=(n2, 2))\n",
    "y = f(X[:, 0], X[:, 1]) + np.random.normal(scale=0.1, size=(n2, )) # shape (1000, )"
   ]
  },
  {
   "cell_type": "code",
   "execution_count": 4,
   "metadata": {},
   "outputs": [],
   "source": [
    "def bx_tensor(x, m=2):\n",
    "    knots = [(i/(m+1)) for i in range(1, m+1)]\n",
    "    basis_num = m + 1 + 3\n",
    "    bx1 = patsy.bs(x=x[:, 0], knots=knots, degree=3, include_intercept=True, lower_bound=0, upper_bound=1)\n",
    "    bx2 = patsy.bs(x=x[:, 1], knots=knots, degree=3, include_intercept=True, lower_bound=0, upper_bound=1)\n",
    "    tmp_list = [bx1[:,i].reshape((-1,1))*bx2 for i in range(basis_num)]\n",
    "    output = np.hstack(tmp_list)\n",
    "    return output\n",
    "\n",
    "def get_fhat(x, y, m=2):\n",
    "    bx = bx_tensor(x=x, m=m)\n",
    "    return sm.OLS(y, bx).fit().predict()"
   ]
  },
  {
   "cell_type": "code",
   "execution_count": 5,
   "metadata": {},
   "outputs": [
    {
     "data": {
      "text/plain": [
       "(1000, 36)"
      ]
     },
     "execution_count": 5,
     "metadata": {},
     "output_type": "execute_result"
    }
   ],
   "source": [
    "bx_tensor(X).shape"
   ]
  },
  {
   "cell_type": "code",
   "execution_count": 6,
   "metadata": {},
   "outputs": [
    {
     "data": {
      "text/plain": [
       "(1000,)"
      ]
     },
     "execution_count": 6,
     "metadata": {},
     "output_type": "execute_result"
    }
   ],
   "source": [
    "bx_tensor_prediction = get_fhat(X, y)\n",
    "bx_tensor_prediction.shape"
   ]
  },
  {
   "cell_type": "code",
   "execution_count": 7,
   "metadata": {},
   "outputs": [
    {
     "name": "stdout",
     "output_type": "stream",
     "text": [
      "(1000, 6) (1000, 5)\n",
      "(1000, 11)\n"
     ]
    }
   ],
   "source": [
    "knots = [(i/(2+1)) for i in range(1, 2+1)]\n",
    "bsx = patsy.bs(x=X[:, 0], knots=knots, degree=3, include_intercept=True, lower_bound=0, upper_bound=1)\n",
    "bsz = patsy.bs(x=X[:, 1], knots=knots, degree=3, include_intercept=False, lower_bound=0, upper_bound=1)\n",
    "print(bsx.shape, bsz.shape)\n",
    "design_matrix = np.hstack((bsx, bsz))\n",
    "print(design_matrix.shape)"
   ]
  },
  {
   "cell_type": "code",
   "execution_count": 8,
   "metadata": {},
   "outputs": [],
   "source": [
    "lm_model = sm.OLS(y, design_matrix)\n",
    "lm_results = lm_model.fit()"
   ]
  },
  {
   "cell_type": "code",
   "execution_count": 9,
   "metadata": {},
   "outputs": [
    {
     "name": "stdout",
     "output_type": "stream",
     "text": [
      "n*log(W) = 23.823367880572007\n"
     ]
    }
   ],
   "source": [
    "W = (lm_results.resid**2).sum() / ((y - bx_tensor_prediction)**2).sum()\n",
    "print(\"n*log(W) =\", (n2*np.log(W)).item())"
   ]
  },
  {
   "cell_type": "code",
   "execution_count": 10,
   "metadata": {},
   "outputs": [
    {
     "name": "stdout",
     "output_type": "stream",
     "text": [
      "p-values:  0.5295975633221048\n"
     ]
    }
   ],
   "source": [
    "print(\"p-values: \", 1-chi2.cdf(x=n2*np.log(W), df=25))"
   ]
  },
  {
   "cell_type": "markdown",
   "metadata": {},
   "source": [
    "#### (c)"
   ]
  },
  {
   "cell_type": "code",
   "execution_count": 11,
   "metadata": {},
   "outputs": [],
   "source": [
    "pvalue_listc = []\n",
    "for i in range(500):\n",
    "    np.random.seed(i)\n",
    "    x = np.random.uniform(size=(1000, 2))\n",
    "    ys = f(x[:, 0], x[:, 1]) + np.random.normal(scale=0.1, size=(n2, ))\n",
    "    knots = [(i/(2+1)) for i in range(1, 2+1)]\n",
    "    bsx = patsy.bs(x=x[:, 0], knots=knots, degree=3, include_intercept=True, lower_bound=0, upper_bound=1)\n",
    "    bsz = patsy.bs(x=x[:, 1], knots=knots, degree=3, include_intercept=False, lower_bound=0, upper_bound=1)\n",
    "    design_matrix = np.hstack((bsx, bsz))\n",
    "    bx_tensor_prediction_simu = get_fhat(x, ys)\n",
    "    lm_results_simu = sm.OLS(ys, design_matrix).fit()\n",
    "    Ws = (lm_results_simu.resid**2).sum() / ((ys - bx_tensor_prediction_simu)**2).sum()\n",
    "    pvalue_listc.append(1-chi2.cdf(x=n2*np.log(Ws), df=25))\n",
    "pvalue_listc = np.array(pvalue_listc)"
   ]
  },
  {
   "cell_type": "code",
   "execution_count": 12,
   "metadata": {},
   "outputs": [
    {
     "name": "stdout",
     "output_type": "stream",
     "text": [
      "The probability of rejecting H0:  0.058\n",
      "500次模擬結果中，共29次拒絕H0 (pvalue < 0.05)\n"
     ]
    }
   ],
   "source": [
    "print(\"The probability of rejecting H0: \", np.where(pvalue_listc<0.05)[0].size/500)\n",
    "print(f\"500次模擬結果中，共{np.where(pvalue_listc<0.05)[0].size}次拒絕H0 (pvalue < 0.05)\")"
   ]
  },
  {
   "cell_type": "markdown",
   "metadata": {},
   "source": [
    "#### (d)"
   ]
  },
  {
   "cell_type": "code",
   "execution_count": 13,
   "metadata": {},
   "outputs": [],
   "source": [
    "def f2(x1, x2):\n",
    "    return np.sin(x1)*np.cos(x2)"
   ]
  },
  {
   "cell_type": "code",
   "execution_count": 14,
   "metadata": {},
   "outputs": [],
   "source": [
    "pvalue_listd = []\n",
    "for i in range(500):\n",
    "    np.random.seed(i)\n",
    "    X_d = np.random.uniform(size=(n2, 2))\n",
    "    knots = [(i/(2+1)) for i in range(1, 2+1)]\n",
    "    bsx_d = patsy.bs(x=X_d[:, 0], knots=knots, degree=3, include_intercept=True, lower_bound=0, upper_bound=1)\n",
    "    bsz_d = patsy.bs(x=X_d[:, 1], knots=knots, degree=3, include_intercept=False, lower_bound=0, upper_bound=1)\n",
    "    design_matrix = np.hstack((bsx_d, bsz_d))\n",
    "    yd = f2(X_d[:, 0], X_d[:, 1]) + np.random.normal(scale=0.1, size=(n2, ))\n",
    "    bx_tensor_prediction_simu2 = get_fhat(X_d, yd)\n",
    "    lm_results_simu2 = sm.OLS(yd, design_matrix).fit()\n",
    "    Wd = (lm_results_simu2.resid**2).sum() / ((yd - bx_tensor_prediction_simu2)**2).sum()\n",
    "    pvalue_listd.append(1-chi2.cdf(x=n2*np.log(Wd), df=25))\n",
    "pvalue_listd = np.array(pvalue_listd)"
   ]
  },
  {
   "cell_type": "code",
   "execution_count": 15,
   "metadata": {},
   "outputs": [
    {
     "name": "stdout",
     "output_type": "stream",
     "text": [
      "The probability of rejecting H0:  1.0\n",
      "500次模擬結果中，共500次拒絕H0 (pvalue < 0.05)\n"
     ]
    }
   ],
   "source": [
    "print(\"The probability of rejecting H0: \", np.where(pvalue_listd<0.05)[0].size/500)\n",
    "print(f\"500次模擬結果中，共{np.where(pvalue_listd<0.05)[0].size}次拒絕H0 (pvalue < 0.05)\")"
   ]
  }
 ],
 "metadata": {
  "interpreter": {
   "hash": "fb51535f60eff52923f61f419d8f81a2df4f4054211c28a09e3523347fa869a8"
  },
  "kernelspec": {
   "display_name": "Python 3 (ipykernel)",
   "language": "python",
   "name": "python3"
  },
  "language_info": {
   "codemirror_mode": {
    "name": "ipython",
    "version": 3
   },
   "file_extension": ".py",
   "mimetype": "text/x-python",
   "name": "python",
   "nbconvert_exporter": "python",
   "pygments_lexer": "ipython3",
   "version": "3.8.10"
  }
 },
 "nbformat": 4,
 "nbformat_minor": 2
}
